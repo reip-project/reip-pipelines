{
 "cells": [
  {
   "cell_type": "code",
   "execution_count": 1,
   "metadata": {},
   "outputs": [],
   "source": [
    "%matplotlib inline\n",
    "import cv2\n",
    "from matplotlib import pyplot as plt\n",
    "import numpy as np\n",
    "import glob\n",
    "from tqdm import tqdm\n",
    "import os\n",
    "from multiprocessing import Pool"
   ]
  },
  {
   "cell_type": "code",
   "execution_count": 2,
   "metadata": {},
   "outputs": [],
   "source": [
    "def update(*a):\n",
    "    pbar.update()"
   ]
  },
  {
   "cell_type": "code",
   "execution_count": 3,
   "metadata": {},
   "outputs": [],
   "source": [
    "def repair_mjpeg(f_path):    \n",
    "    f_size = os.stat(f_path).st_size\n",
    "    stream = open(f_path, 'rb')\n",
    "    byte_data = b''\n",
    "    out = cv2.VideoWriter(f_path + '.fixed.avi', cv2.VideoWriter_fourcc(*'DIVX'), 15, (2592, 1944))\n",
    "    byte_pos = 0\n",
    "    while byte_pos < f_size - 1025:\n",
    "        byte_data += stream.read(1024)\n",
    "        a = byte_data.find(b'\\xff\\xd8')\n",
    "        b = byte_data.find(b'\\xff\\xd9')\n",
    "        if a != -1 and b != -1:\n",
    "            jpg = byte_data[a:b+2]\n",
    "            byte_data = byte_data[b+2:]\n",
    "            try:\n",
    "                frame = cv2.imdecode(np.frombuffer(jpg, dtype=np.uint8), cv2.IMREAD_COLOR)\n",
    "            except:\n",
    "                continue\n",
    "            out.write(frame)\n",
    "        byte_pos = stream.tell()\n",
    "    out.release()\n",
    "    stream.close()"
   ]
  },
  {
   "cell_type": "code",
   "execution_count": 4,
   "metadata": {},
   "outputs": [
    {
     "name": "stderr",
     "output_type": "stream",
     "text": [
      "  9%|▉         | 11/120 [20:50<2:59:18, 98.70s/it] Process ForkPoolWorker-4:\n",
      "Process ForkPoolWorker-2:\n",
      "Process ForkPoolWorker-3:\n",
      "Process ForkPoolWorker-1:\n",
      "Traceback (most recent call last):\n"
     ]
    }
   ],
   "source": [
    "gd_path = '/Volumes/GoogleDrive/My Drive/REIP/Data/may_18_RH/*/*/*.avi'\n",
    "file_list = glob.glob(gd_path, recursive=True)\n",
    "\n",
    "pool = Pool(4)\n",
    "pbar = tqdm(total=len(file_list))\n",
    "\n",
    "for file_path in file_list:\n",
    "    pool.apply_async(repair_mjpeg, args=(file_path,), callback=update)\n",
    "\n",
    "pool.close()\n",
    "pool.join()"
   ]
  },
  {
   "cell_type": "code",
   "execution_count": null,
   "metadata": {},
   "outputs": [],
   "source": []
  },
  {
   "cell_type": "code",
   "execution_count": null,
   "metadata": {},
   "outputs": [],
   "source": [
    "# print('FPS: %f' % cap.get(cv2.CAP_PROP_FPS))\n",
    "# print('Current loc: %f' % cap.get(cv2.CAP_PROP_POS_MSEC))\n",
    "# print('%i x %i' % (cap.get(cv2.CAP_PROP_FRAME_WIDTH), cap.get(cv2.CAP_PROP_FRAME_HEIGHT)))\n",
    "# print('Four CC: %s' % cap.get(cv2.CAP_PROP_FOURCC))\n",
    "# print('Frame count: %f' % cap.get(cv2.CAP_PROP_FRAME_COUNT))\n",
    "# print('Convert RGB: %i' % cap.get(cv2.CAP_PROP_CONVERT_RGB))"
   ]
  },
  {
   "cell_type": "code",
   "execution_count": null,
   "metadata": {},
   "outputs": [],
   "source": []
  },
  {
   "cell_type": "code",
   "execution_count": null,
   "metadata": {},
   "outputs": [],
   "source": []
  },
  {
   "cell_type": "code",
   "execution_count": null,
   "metadata": {},
   "outputs": [],
   "source": []
  },
  {
   "cell_type": "code",
   "execution_count": null,
   "metadata": {},
   "outputs": [],
   "source": []
  },
  {
   "cell_type": "code",
   "execution_count": null,
   "metadata": {},
   "outputs": [],
   "source": []
  }
 ],
 "metadata": {
  "kernelspec": {
   "display_name": "sensys_exp",
   "language": "python",
   "name": "sensys_exp"
  },
  "language_info": {
   "codemirror_mode": {
    "name": "ipython",
    "version": 3
   },
   "file_extension": ".py",
   "mimetype": "text/x-python",
   "name": "python",
   "nbconvert_exporter": "python",
   "pygments_lexer": "ipython3",
   "version": "3.7.10"
  },
  "pycharm": {
   "stem_cell": {
    "cell_type": "raw",
    "source": [],
    "metadata": {
     "collapsed": false
    }
   }
  }
 },
 "nbformat": 4,
 "nbformat_minor": 2
}